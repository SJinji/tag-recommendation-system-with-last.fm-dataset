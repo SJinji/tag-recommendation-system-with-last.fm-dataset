{
  "nbformat": 4,
  "nbformat_minor": 0,
  "metadata": {
    "colab": {
      "provenance": [],
      "authorship_tag": "ABX9TyOTir3z2NEvBMoU/XuY16PN",
      "include_colab_link": true
    },
    "kernelspec": {
      "name": "python3",
      "display_name": "Python 3"
    },
    "language_info": {
      "name": "python"
    }
  },
  "cells": [
    {
      "cell_type": "markdown",
      "metadata": {
        "id": "view-in-github",
        "colab_type": "text"
      },
      "source": [
        "<a href=\"https://colab.research.google.com/github/SJinji/recommendation-system-with-last.fm-dataset/blob/main/Deezer_1_Data_Preprocessing.ipynb\" target=\"_parent\"><img src=\"https://colab.research.google.com/assets/colab-badge.svg\" alt=\"Open In Colab\"/></a>"
      ]
    },
    {
      "cell_type": "code",
      "source": [
        "! unzip /content/deezer-tech-test-DS-internship.zip"
      ],
      "metadata": {
        "id": "Nebrg_Is6FLN"
      },
      "execution_count": null,
      "outputs": []
    },
    {
      "cell_type": "code",
      "execution_count": 2,
      "metadata": {
        "colab": {
          "base_uri": "https://localhost:8080/"
        },
        "id": "ncmiDDzdri_U",
        "outputId": "31a03eb1-4312-4a63-998b-5fc20e640e61"
      },
      "outputs": [
        {
          "output_type": "stream",
          "name": "stdout",
          "text": [
            "Requirement already satisfied: spotipy in /usr/local/lib/python3.10/dist-packages (2.23.0)\n",
            "Requirement already satisfied: redis>=3.5.3 in /usr/local/lib/python3.10/dist-packages (from spotipy) (4.6.0)\n",
            "Requirement already satisfied: requests>=2.25.0 in /usr/local/lib/python3.10/dist-packages (from spotipy) (2.27.1)\n",
            "Requirement already satisfied: six>=1.15.0 in /usr/local/lib/python3.10/dist-packages (from spotipy) (1.16.0)\n",
            "Requirement already satisfied: urllib3>=1.26.0 in /usr/local/lib/python3.10/dist-packages (from spotipy) (1.26.16)\n",
            "Requirement already satisfied: async-timeout>=4.0.2 in /usr/local/lib/python3.10/dist-packages (from redis>=3.5.3->spotipy) (4.0.2)\n",
            "Requirement already satisfied: certifi>=2017.4.17 in /usr/local/lib/python3.10/dist-packages (from requests>=2.25.0->spotipy) (2023.7.22)\n",
            "Requirement already satisfied: charset-normalizer~=2.0.0 in /usr/local/lib/python3.10/dist-packages (from requests>=2.25.0->spotipy) (2.0.12)\n",
            "Requirement already satisfied: idna<4,>=2.5 in /usr/local/lib/python3.10/dist-packages (from requests>=2.25.0->spotipy) (3.4)\n"
          ]
        }
      ],
      "source": [
        "! pip install spotipy"
      ]
    },
    {
      "cell_type": "code",
      "source": [
        "# Import necessary libraries\n",
        "import warnings\n",
        "warnings.filterwarnings('ignore')\n",
        "\n",
        "import pandas as pd\n",
        "import spotipy\n",
        "import string\n",
        "import nltk\n",
        "from spotipy.oauth2 import SpotifyClientCredentials\n",
        "from tqdm.auto import tqdm"
      ],
      "metadata": {
        "id": "11ONJdQQ3SzP"
      },
      "execution_count": 3,
      "outputs": []
    },
    {
      "cell_type": "code",
      "source": [
        "# Function to fetch artist info from Spotify API\n",
        "def get_artist_info(spotify, name):\n",
        "    # Search for artist in Spotify API\n",
        "    results = spotify.search(q=f'artist:{name}', type='artist')\n",
        "    spotify_name, img_url, genres, spotify_url = name, None, [], None\n",
        "\n",
        "    if len(results['artists']['items']) > 0:\n",
        "        # Sort the returned results based on how close they are to the query name (Edit Distance).\n",
        "        items = sorted(results['artists']['items'], key=lambda x: nltk.edit_distance(name.lower(), x[\"name\"].lower()))\n",
        "\n",
        "        if len(items) > 0:\n",
        "            artist = items[0]\n",
        "            genres = artist[\"genres\"]\n",
        "            spotify_name = artist[\"name\"]\n",
        "            spotify_url = artist[\"external_urls\"][\"spotify\"]\n",
        "            image_list = artist[\"images\"]\n",
        "            if len(image_list) > 0:\n",
        "                img_url = image_list[0][\"url\"]\n",
        "\n",
        "    return spotify_name, img_url, genres, spotify_url\n",
        "\n",
        "import time\n",
        "\n",
        "# Function to fetch Spotify data for all unique artist names in the DataFrame\n",
        "def fetch_spotify_data(original_df, client_id, client_secret):\n",
        "    # Authenticate Spotify API client\n",
        "    spotify = spotipy.Spotify(auth_manager=SpotifyClientCredentials(client_id=client_id, client_secret=client_secret))\n",
        "    spotify_data = pd.DataFrame(columns=[\"artistName\", \"spotifyName\", \"imageUrl\", \"genres\", \"spotifyUrl\"])\n",
        "\n",
        "    for artist_name_in in tqdm(list(original_df.artistName.unique())):\n",
        "        artist_name = str(artist_name_in)\n",
        "        try:\n",
        "            # Fetch artist info from Spotify API\n",
        "            print(f\"Fetching data for artist: {artist_name}\")\n",
        "            spotify_name, image_url, genres_list, spotify_url = get_artist_info(spotify, artist_name)\n",
        "\n",
        "            # Create a DataFrame row with fetched data\n",
        "            df_row = pd.DataFrame({\"artistName\": artist_name, \"spotifyName\": spotify_name, \"imageUrl\": image_url, \"genres\": str(genres_list), \"spotifyUrl\": spotify_url}, index=[0])\n",
        "\n",
        "            # Concatenate row to spotify_data DataFrame\n",
        "            spotify_data = pd.concat([spotify_data, df_row], axis=0, ignore_index=True)\n",
        "\n",
        "            # Introduce a delay of 0.5 seconds between requests to stay within the rate limit\n",
        "            time.sleep(0.5)\n",
        "\n",
        "        except Exception as e:\n",
        "            # If an error occurs, print the artist name and error message and continue to the next artist\n",
        "            print(f\"Error fetching data for artist: {artist_name}\")\n",
        "            print(\"Error message:\", str(e))\n",
        "            continue\n",
        "\n",
        "    return spotify_data\n"
      ],
      "metadata": {
        "id": "TJCBbS9s3TLT"
      },
      "execution_count": 8,
      "outputs": []
    },
    {
      "cell_type": "code",
      "source": [
        "def main():\n",
        "    # Load original data\n",
        "    artists = pd.read_csv('deezer-business-case/data/artists.dat', sep=\"\\t\")\n",
        "    tags = pd.read_csv('deezer-business-case/data/tags.dat', encoding=\"gbk\", sep=\"\\t\")\n",
        "    user_artists = pd.read_csv('deezer-business-case/data/user_artists.dat', sep=\"\\t\")\n",
        "    user_friends = pd.read_csv('deezer-business-case/data/user_friends.dat', sep='\\t')\n",
        "    tag_artists = pd.read_csv('deezer-business-case/data/user_taggedartists.dat', sep='\\t')\n",
        "\n",
        "    # Merge data to create original_df DataFrame\n",
        "    df1 = pd.merge(user_artists, user_friends, on=\"userID\", how=\"outer\")\n",
        "    df2 = pd.merge(df1, artists, left_on=\"artistID\", right_on=\"id\", how=\"outer\").drop(columns=[\"id\", \"url\", \"pictureURL\"])\n",
        "    df3 = pd.merge(tag_artists, tags, on=\"tagID\", how=\"left\")\n",
        "    original_df = pd.merge(df2, df3, on=[\"userID\", \"artistID\"], how=\"outer\")\n",
        "\n",
        "    # Rename columns for clarity\n",
        "    original_df.rename(columns={\"name\": \"artistName\", \"weight\": \"artistWeight\"}, inplace=True)\n",
        "\n",
        "    # Spotify API credentials\n",
        "    client_id = \"22ba1096ffda44fca858c1c6880ca020\"\n",
        "    client_secret = \"2342a132a9a74186bdff50fce2a95778\"\n",
        "\n",
        "    # Fetch Spotify data for artists\n",
        "    print(\"Fetching Spotify data...\")\n",
        "    spotify_data = fetch_spotify_data(original_df, client_id, client_secret)\n",
        "    print(\"Spotify data fetched successfully!\")\n",
        "\n",
        "    # Merge Spotify data with the original DataFrame\n",
        "    df = pd.merge(original_df, spotify_data, on=\"artistName\", how=\"left\")\n",
        "\n",
        "    # Save the data to CSV files\n",
        "    spotify_data.to_csv('spotify_data.csv', index=False)\n",
        "    df.to_csv('original_and_spotify_data.csv', index=False)\n",
        "\n",
        "if __name__ == \"__main__\":\n",
        "    main()"
      ],
      "metadata": {
        "id": "eGTDs48J58vx"
      },
      "execution_count": null,
      "outputs": []
    }
  ]
}