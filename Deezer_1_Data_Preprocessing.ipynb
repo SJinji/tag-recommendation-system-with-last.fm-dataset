{
  "nbformat": 4,
  "nbformat_minor": 0,
  "metadata": {
    "colab": {
      "provenance": [],
      "authorship_tag": "ABX9TyOMs+26BF/Mtt3TdVcuEvJV",
      "include_colab_link": true
    },
    "kernelspec": {
      "name": "python3",
      "display_name": "Python 3"
    },
    "language_info": {
      "name": "python"
    },
    "widgets": {
      "application/vnd.jupyter.widget-state+json": {
        "19a9e7aa11b44b93a0cb61384a78dfd3": {
          "model_module": "@jupyter-widgets/controls",
          "model_name": "HBoxModel",
          "model_module_version": "1.5.0",
          "state": {
            "_dom_classes": [],
            "_model_module": "@jupyter-widgets/controls",
            "_model_module_version": "1.5.0",
            "_model_name": "HBoxModel",
            "_view_count": null,
            "_view_module": "@jupyter-widgets/controls",
            "_view_module_version": "1.5.0",
            "_view_name": "HBoxView",
            "box_style": "",
            "children": [
              "IPY_MODEL_25d25606cdf2450e993d1bc50a2c4d3e",
              "IPY_MODEL_98412af54ebb478286a153212837a945",
              "IPY_MODEL_0d5ac7f1e59845a4977119bdabdad5b6"
            ],
            "layout": "IPY_MODEL_d7a253ba922a402d951c9699f55c3faf"
          }
        },
        "25d25606cdf2450e993d1bc50a2c4d3e": {
          "model_module": "@jupyter-widgets/controls",
          "model_name": "HTMLModel",
          "model_module_version": "1.5.0",
          "state": {
            "_dom_classes": [],
            "_model_module": "@jupyter-widgets/controls",
            "_model_module_version": "1.5.0",
            "_model_name": "HTMLModel",
            "_view_count": null,
            "_view_module": "@jupyter-widgets/controls",
            "_view_module_version": "1.5.0",
            "_view_name": "HTMLView",
            "description": "",
            "description_tooltip": null,
            "layout": "IPY_MODEL_01c385a2aeac47f4ba23d910e494f00c",
            "placeholder": "​",
            "style": "IPY_MODEL_8a74aa973daa4bfdafb4f9b9f6637c69",
            "value": "100%"
          }
        },
        "98412af54ebb478286a153212837a945": {
          "model_module": "@jupyter-widgets/controls",
          "model_name": "FloatProgressModel",
          "model_module_version": "1.5.0",
          "state": {
            "_dom_classes": [],
            "_model_module": "@jupyter-widgets/controls",
            "_model_module_version": "1.5.0",
            "_model_name": "FloatProgressModel",
            "_view_count": null,
            "_view_module": "@jupyter-widgets/controls",
            "_view_module_version": "1.5.0",
            "_view_name": "ProgressView",
            "bar_style": "success",
            "description": "",
            "description_tooltip": null,
            "layout": "IPY_MODEL_5a5df351561d4c5d8d6eda893483087f",
            "max": 17633,
            "min": 0,
            "orientation": "horizontal",
            "style": "IPY_MODEL_7505a044ac884667b9c49b6aef331bba",
            "value": 17633
          }
        },
        "0d5ac7f1e59845a4977119bdabdad5b6": {
          "model_module": "@jupyter-widgets/controls",
          "model_name": "HTMLModel",
          "model_module_version": "1.5.0",
          "state": {
            "_dom_classes": [],
            "_model_module": "@jupyter-widgets/controls",
            "_model_module_version": "1.5.0",
            "_model_name": "HTMLModel",
            "_view_count": null,
            "_view_module": "@jupyter-widgets/controls",
            "_view_module_version": "1.5.0",
            "_view_name": "HTMLView",
            "description": "",
            "description_tooltip": null,
            "layout": "IPY_MODEL_d7f0707f275143099f0a807dd901ac6e",
            "placeholder": "​",
            "style": "IPY_MODEL_a833dafc0e6949d08698c0e9dc7718e9",
            "value": " 17633/17633 [37:04&lt;00:00,  8.54it/s]"
          }
        },
        "d7a253ba922a402d951c9699f55c3faf": {
          "model_module": "@jupyter-widgets/base",
          "model_name": "LayoutModel",
          "model_module_version": "1.2.0",
          "state": {
            "_model_module": "@jupyter-widgets/base",
            "_model_module_version": "1.2.0",
            "_model_name": "LayoutModel",
            "_view_count": null,
            "_view_module": "@jupyter-widgets/base",
            "_view_module_version": "1.2.0",
            "_view_name": "LayoutView",
            "align_content": null,
            "align_items": null,
            "align_self": null,
            "border": null,
            "bottom": null,
            "display": null,
            "flex": null,
            "flex_flow": null,
            "grid_area": null,
            "grid_auto_columns": null,
            "grid_auto_flow": null,
            "grid_auto_rows": null,
            "grid_column": null,
            "grid_gap": null,
            "grid_row": null,
            "grid_template_areas": null,
            "grid_template_columns": null,
            "grid_template_rows": null,
            "height": null,
            "justify_content": null,
            "justify_items": null,
            "left": null,
            "margin": null,
            "max_height": null,
            "max_width": null,
            "min_height": null,
            "min_width": null,
            "object_fit": null,
            "object_position": null,
            "order": null,
            "overflow": null,
            "overflow_x": null,
            "overflow_y": null,
            "padding": null,
            "right": null,
            "top": null,
            "visibility": null,
            "width": null
          }
        },
        "01c385a2aeac47f4ba23d910e494f00c": {
          "model_module": "@jupyter-widgets/base",
          "model_name": "LayoutModel",
          "model_module_version": "1.2.0",
          "state": {
            "_model_module": "@jupyter-widgets/base",
            "_model_module_version": "1.2.0",
            "_model_name": "LayoutModel",
            "_view_count": null,
            "_view_module": "@jupyter-widgets/base",
            "_view_module_version": "1.2.0",
            "_view_name": "LayoutView",
            "align_content": null,
            "align_items": null,
            "align_self": null,
            "border": null,
            "bottom": null,
            "display": null,
            "flex": null,
            "flex_flow": null,
            "grid_area": null,
            "grid_auto_columns": null,
            "grid_auto_flow": null,
            "grid_auto_rows": null,
            "grid_column": null,
            "grid_gap": null,
            "grid_row": null,
            "grid_template_areas": null,
            "grid_template_columns": null,
            "grid_template_rows": null,
            "height": null,
            "justify_content": null,
            "justify_items": null,
            "left": null,
            "margin": null,
            "max_height": null,
            "max_width": null,
            "min_height": null,
            "min_width": null,
            "object_fit": null,
            "object_position": null,
            "order": null,
            "overflow": null,
            "overflow_x": null,
            "overflow_y": null,
            "padding": null,
            "right": null,
            "top": null,
            "visibility": null,
            "width": null
          }
        },
        "8a74aa973daa4bfdafb4f9b9f6637c69": {
          "model_module": "@jupyter-widgets/controls",
          "model_name": "DescriptionStyleModel",
          "model_module_version": "1.5.0",
          "state": {
            "_model_module": "@jupyter-widgets/controls",
            "_model_module_version": "1.5.0",
            "_model_name": "DescriptionStyleModel",
            "_view_count": null,
            "_view_module": "@jupyter-widgets/base",
            "_view_module_version": "1.2.0",
            "_view_name": "StyleView",
            "description_width": ""
          }
        },
        "5a5df351561d4c5d8d6eda893483087f": {
          "model_module": "@jupyter-widgets/base",
          "model_name": "LayoutModel",
          "model_module_version": "1.2.0",
          "state": {
            "_model_module": "@jupyter-widgets/base",
            "_model_module_version": "1.2.0",
            "_model_name": "LayoutModel",
            "_view_count": null,
            "_view_module": "@jupyter-widgets/base",
            "_view_module_version": "1.2.0",
            "_view_name": "LayoutView",
            "align_content": null,
            "align_items": null,
            "align_self": null,
            "border": null,
            "bottom": null,
            "display": null,
            "flex": null,
            "flex_flow": null,
            "grid_area": null,
            "grid_auto_columns": null,
            "grid_auto_flow": null,
            "grid_auto_rows": null,
            "grid_column": null,
            "grid_gap": null,
            "grid_row": null,
            "grid_template_areas": null,
            "grid_template_columns": null,
            "grid_template_rows": null,
            "height": null,
            "justify_content": null,
            "justify_items": null,
            "left": null,
            "margin": null,
            "max_height": null,
            "max_width": null,
            "min_height": null,
            "min_width": null,
            "object_fit": null,
            "object_position": null,
            "order": null,
            "overflow": null,
            "overflow_x": null,
            "overflow_y": null,
            "padding": null,
            "right": null,
            "top": null,
            "visibility": null,
            "width": null
          }
        },
        "7505a044ac884667b9c49b6aef331bba": {
          "model_module": "@jupyter-widgets/controls",
          "model_name": "ProgressStyleModel",
          "model_module_version": "1.5.0",
          "state": {
            "_model_module": "@jupyter-widgets/controls",
            "_model_module_version": "1.5.0",
            "_model_name": "ProgressStyleModel",
            "_view_count": null,
            "_view_module": "@jupyter-widgets/base",
            "_view_module_version": "1.2.0",
            "_view_name": "StyleView",
            "bar_color": null,
            "description_width": ""
          }
        },
        "d7f0707f275143099f0a807dd901ac6e": {
          "model_module": "@jupyter-widgets/base",
          "model_name": "LayoutModel",
          "model_module_version": "1.2.0",
          "state": {
            "_model_module": "@jupyter-widgets/base",
            "_model_module_version": "1.2.0",
            "_model_name": "LayoutModel",
            "_view_count": null,
            "_view_module": "@jupyter-widgets/base",
            "_view_module_version": "1.2.0",
            "_view_name": "LayoutView",
            "align_content": null,
            "align_items": null,
            "align_self": null,
            "border": null,
            "bottom": null,
            "display": null,
            "flex": null,
            "flex_flow": null,
            "grid_area": null,
            "grid_auto_columns": null,
            "grid_auto_flow": null,
            "grid_auto_rows": null,
            "grid_column": null,
            "grid_gap": null,
            "grid_row": null,
            "grid_template_areas": null,
            "grid_template_columns": null,
            "grid_template_rows": null,
            "height": null,
            "justify_content": null,
            "justify_items": null,
            "left": null,
            "margin": null,
            "max_height": null,
            "max_width": null,
            "min_height": null,
            "min_width": null,
            "object_fit": null,
            "object_position": null,
            "order": null,
            "overflow": null,
            "overflow_x": null,
            "overflow_y": null,
            "padding": null,
            "right": null,
            "top": null,
            "visibility": null,
            "width": null
          }
        },
        "a833dafc0e6949d08698c0e9dc7718e9": {
          "model_module": "@jupyter-widgets/controls",
          "model_name": "DescriptionStyleModel",
          "model_module_version": "1.5.0",
          "state": {
            "_model_module": "@jupyter-widgets/controls",
            "_model_module_version": "1.5.0",
            "_model_name": "DescriptionStyleModel",
            "_view_count": null,
            "_view_module": "@jupyter-widgets/base",
            "_view_module_version": "1.2.0",
            "_view_name": "StyleView",
            "description_width": ""
          }
        }
      }
    }
  },
  "cells": [
    {
      "cell_type": "markdown",
      "metadata": {
        "id": "view-in-github",
        "colab_type": "text"
      },
      "source": [
        "<a href=\"https://colab.research.google.com/github/SJinji/recommendation-system-with-last.fm-dataset/blob/main/Deezer_1_Data_Preprocessing.ipynb\" target=\"_parent\"><img src=\"https://colab.research.google.com/assets/colab-badge.svg\" alt=\"Open In Colab\"/></a>"
      ]
    },
    {
      "cell_type": "code",
      "source": [
        "! unzip /content/deezer-tech-test-DS-internship.zip"
      ],
      "metadata": {
        "id": "Nebrg_Is6FLN"
      },
      "execution_count": null,
      "outputs": []
    },
    {
      "cell_type": "code",
      "execution_count": null,
      "metadata": {
        "id": "ncmiDDzdri_U"
      },
      "outputs": [],
      "source": [
        "! pip install spotipy"
      ]
    },
    {
      "cell_type": "code",
      "source": [
        "# Import necessary libraries\n",
        "import warnings\n",
        "warnings.filterwarnings('ignore')\n",
        "\n",
        "import pandas as pd\n",
        "import spotipy\n",
        "import string\n",
        "import nltk\n",
        "from spotipy.oauth2 import SpotifyClientCredentials\n",
        "from tqdm.auto import tqdm"
      ],
      "metadata": {
        "id": "11ONJdQQ3SzP"
      },
      "execution_count": null,
      "outputs": []
    },
    {
      "cell_type": "code",
      "source": [
        "# Function to fetch artist info from Spotify API\n",
        "def get_artist_info(spotify, name):\n",
        "    # Search for artist in Spotify API\n",
        "    results = spotify.search(q=f'artist:{name}', type='artist')\n",
        "    spotify_name, img_url, genres, spotify_url = name, None, [], None\n",
        "\n",
        "    if len(results['artists']['items']) > 0:\n",
        "        # Sort the returned results based on how close they are to the query name (Edit Distance).\n",
        "        items = sorted(results['artists']['items'], key=lambda x: nltk.edit_distance(name.lower(), x[\"name\"].lower()))\n",
        "\n",
        "        if len(items) > 0:\n",
        "            artist = items[0]\n",
        "            genres = artist[\"genres\"]\n",
        "            spotify_name = artist[\"name\"]\n",
        "            spotify_url = artist[\"external_urls\"][\"spotify\"]\n",
        "            image_list = artist[\"images\"]\n",
        "            if len(image_list) > 0:\n",
        "                img_url = image_list[0][\"url\"]\n",
        "\n",
        "    return spotify_name, img_url, genres, spotify_url\n",
        "\n",
        "# Function to fetch Spotify data for all unique artist names in the DataFrame\n",
        "def fetch_spotify_data(original_df, client_id, client_secret):\n",
        "    # Authenticate Spotify API client\n",
        "    spotify = spotipy.Spotify(auth_manager=SpotifyClientCredentials(client_id=client_id, client_secret=client_secret))\n",
        "    spotify_data = pd.DataFrame(columns=[\"artistName\", \"spotifyName\", \"imageUrl\", \"genres\", \"spotifyUrl\"])\n",
        "\n",
        "    for artist_name_in in tqdm(list(original_df.artistName.unique())):\n",
        "        artist_name = str(artist_name_in)\n",
        "        try:\n",
        "            # Fetch artist info from Spotify API\n",
        "            spotify_name, image_url, genres_list, spotify_url = get_artist_info(spotify, artist_name)\n",
        "\n",
        "            # Create a DataFrame row with fetched data\n",
        "            df_row = pd.DataFrame({\"artistName\": artist_name, \"spotifyName\": spotify_name, \"imageUrl\": image_url, \"genres\": str(genres_list), \"spotifyUrl\": spotify_url}, index=[0])\n",
        "\n",
        "            # Concatenate row to spotify_data DataFrame\n",
        "            spotify_data = pd.concat([spotify_data, df_row], axis=0, ignore_index=True)\n",
        "\n",
        "        except Exception as e:\n",
        "            # If an error occurs, print the artist name and error message and continue to the next artist\n",
        "            print(f\"Error fetching data for artist: {artist_name}\")\n",
        "            print(\"Error message:\", str(e))\n",
        "            continue\n",
        "\n",
        "    return spotify_data\n"
      ],
      "metadata": {
        "id": "TJCBbS9s3TLT"
      },
      "execution_count": null,
      "outputs": []
    },
    {
      "cell_type": "code",
      "source": [
        "def main():\n",
        "    # Load original data\n",
        "    artists = pd.read_csv('deezer-business-case/data/artists.dat', sep=\"\\t\")\n",
        "    tags = pd.read_csv('deezer-business-case/data/tags.dat', encoding=\"gbk\", sep=\"\\t\")\n",
        "    user_artists = pd.read_csv('deezer-business-case/data/user_artists.dat', sep=\"\\t\")\n",
        "    user_friends = pd.read_csv('deezer-business-case/data/user_friends.dat', sep='\\t')\n",
        "    tag_artists = pd.read_csv('deezer-business-case/data/user_taggedartists.dat', sep='\\t')\n",
        "\n",
        "    # Merge data to create original_df DataFrame\n",
        "    df1 = pd.merge(user_artists, user_friends, on=\"userID\", how=\"outer\")\n",
        "    df2 = pd.merge(df1, artists, left_on=\"artistID\", right_on=\"id\", how=\"outer\").drop(columns=[\"id\", \"url\", \"pictureURL\"])\n",
        "    df3 = pd.merge(tag_artists, tags, on=\"tagID\", how=\"left\")\n",
        "    original_df = pd.merge(df2, df3, on=[\"userID\", \"artistID\"], how=\"outer\")\n",
        "\n",
        "    # Rename columns for clarity\n",
        "    original_df.rename(columns={\"name\": \"artistName\"}, inplace=True)\n",
        "\n",
        "    # Spotify API credentials\n",
        "    client_id = \"bd51702d868f49c6a6434a38342c41ea\"\n",
        "    client_secret = \"4171d454d7e24e6989862cc912e28956\"\n",
        "\n",
        "    # Fetch Spotify data for artists\n",
        "    print(\"Fetching Spotify data...\")\n",
        "    spotify_data = fetch_spotify_data(original_df, client_id, client_secret)\n",
        "    print(\"Spotify data fetched successfully!\")\n",
        "\n",
        "    # Merge Spotify data with the original DataFrame\n",
        "    df = pd.merge(original_df, spotify_data, on=\"artistName\", how=\"left\")\n",
        "\n",
        "    # Save the data to CSV files\n",
        "    original_df.to_csv('original_data.csv', index=False)\n",
        "    spotify_data.to_csv('spotify_data.csv', index=False)\n",
        "    df.to_csv('original_and_spotify_data.csv', index=False)\n",
        "\n",
        "if __name__ == \"__main__\":\n",
        "    main()"
      ],
      "metadata": {
        "id": "eGTDs48J58vx",
        "outputId": "b7c35a78-a768-4c9f-a356-1dcf0c20663f",
        "colab": {
          "base_uri": "https://localhost:8080/",
          "height": 85,
          "referenced_widgets": [
            "19a9e7aa11b44b93a0cb61384a78dfd3",
            "25d25606cdf2450e993d1bc50a2c4d3e",
            "98412af54ebb478286a153212837a945",
            "0d5ac7f1e59845a4977119bdabdad5b6",
            "d7a253ba922a402d951c9699f55c3faf",
            "01c385a2aeac47f4ba23d910e494f00c",
            "8a74aa973daa4bfdafb4f9b9f6637c69",
            "5a5df351561d4c5d8d6eda893483087f",
            "7505a044ac884667b9c49b6aef331bba",
            "d7f0707f275143099f0a807dd901ac6e",
            "a833dafc0e6949d08698c0e9dc7718e9"
          ]
        }
      },
      "execution_count": null,
      "outputs": [
        {
          "output_type": "stream",
          "name": "stdout",
          "text": [
            "Fetching Spotify data...\n"
          ]
        },
        {
          "output_type": "display_data",
          "data": {
            "text/plain": [
              "  0%|          | 0/17633 [00:00<?, ?it/s]"
            ],
            "application/vnd.jupyter.widget-view+json": {
              "version_major": 2,
              "version_minor": 0,
              "model_id": "19a9e7aa11b44b93a0cb61384a78dfd3"
            }
          },
          "metadata": {}
        },
        {
          "output_type": "stream",
          "name": "stdout",
          "text": [
            "Spotify data fetched successfully!\n"
          ]
        }
      ]
    }
  ]
}